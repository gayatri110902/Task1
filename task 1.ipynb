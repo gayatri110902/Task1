{
 "cells": [
  {
   "cell_type": "code",
   "execution_count": 1,
   "id": "5c9d71aa-cdd2-4212-b178-f5a0e5ba53eb",
   "metadata": {},
   "outputs": [
    {
     "ename": "SyntaxError",
     "evalue": "unterminated string literal (detected at line 141) (2954617346.py, line 141)",
     "output_type": "error",
     "traceback": [
      "\u001b[1;36m  Cell \u001b[1;32mIn[1], line 141\u001b[1;36m\u001b[0m\n\u001b[1;33m    Let's play Hangman!\u001b[0m\n\u001b[1;37m       ^\u001b[0m\n\u001b[1;31mSyntaxError\u001b[0m\u001b[1;31m:\u001b[0m unterminated string literal (detected at line 141)\n"
     ]
    }
   ],
   "source": [
    "import random\n",
    "\n",
    "# List of words to choose from\n",
    "word_list = ['apple', 'banana', 'cherry', 'date', 'elderberry']\n",
    "\n",
    "def hangman():\n",
    "    # Select a random word from the list\n",
    "    word = random.choice(word_list)\n",
    "    word_length = len(word)\n",
    "    \n",
    "    # Initialize the display with underscores\n",
    "    display = ['_'] * word_length\n",
    "    guessed = False\n",
    "    guessed_letters = []\n",
    "    guessed_words = []\n",
    "    tries = 6\n",
    "    \n",
    "    print(\"Let's play Hangman!\")\n",
    "    print(display_hangman(tries))\n",
    "    print(' '.join(display))\n",
    "    \n",
    "    while not guessed and tries > 0:\n",
    "        guess = input(\"Please guess a letter or word: \").lower()\n",
    "        \n",
    "        if len(guess) == 1 and guess.isalpha():\n",
    "            if guess in guessed_letters:\n",
    "                print(\"You already guessed the letter\", guess)\n",
    "            elif guess not in word:\n",
    "                print(guess, \"is not in the word.\")\n",
    "                tries -= 1\n",
    "                guessed_letters.append(guess)\n",
    "            else:\n",
    "                print(\"Good job,\", guess, \"is in the word!\")\n",
    "                guessed_letters.append(guess)\n",
    "                word_as_list = list(word)\n",
    "                indices = [i for i, letter in enumerate(word_as_list) if letter == guess]\n",
    "                for index in indices:\n",
    "                    display[index] = guess\n",
    "        elif len(guess) == word_length and guess.isalpha():\n",
    "            if guess in guessed_words:\n",
    "                print(\"You already guessed the word\", guess)\n",
    "            elif guess != word:\n",
    "                print(guess, \"is not the word.\")\n",
    "                tries -= 1\n",
    "                guessed_words.append(guess)\n",
    "            else:\n",
    "                guessed = True\n",
    "                display = list(guess)\n",
    "        else:\n",
    "            print(\"Not a valid guess.\")\n",
    "        \n",
    "        print(display_hangman(tries))\n",
    "        print(' '.join(display))\n",
    "    \n",
    "    if guessed:\n",
    "        print(\"Congratulations, you guessed the word!\")\n",
    "    else:\n",
    "        print(\"Sorry, you ran out of tries. The word was \" + word)\n",
    "\n",
    "def display_hangman(tries):\n",
    "    stages = [  # final state: head, torso, both arms, and both legs\n",
    "                \"\"\"\n",
    "                   --------\n",
    "                   |      |\n",
    "                   |      O\n",
    "                   |     \\\\|/\n",
    "                   |      |\n",
    "                   |     / \\\\\n",
    "                   -\n",
    "                \"\"\",\n",
    "                # head, torso, both arms, and one leg\n",
    "                \"\"\"\n",
    "                   --------\n",
    "                   |      |\n",
    "                   |      O\n",
    "                   |     \\\\|/\n",
    "                   |      |\n",
    "                   |     / \n",
    "                   -\n",
    "                \"\"\",\n",
    "                # head, torso, and both arms\n",
    "                \"\"\"\n",
    "                   --------\n",
    "                   |      |\n",
    "                   |      O\n",
    "                   |     \\\\|/\n",
    "                   |      |\n",
    "                   |      \n",
    "                   -\n",
    "                \"\"\",\n",
    "                # head, torso, and one arm\n",
    "                \"\"\"\n",
    "                   --------\n",
    "                   |      |\n",
    "                   |      O\n",
    "                   |     \\\\|\n",
    "                   |      |\n",
    "                   |     \n",
    "                   -\n",
    "                \"\"\",\n",
    "                # head and torso\n",
    "                \"\"\"\n",
    "                   --------\n",
    "                   |      |\n",
    "                   |      O\n",
    "                   |      |\n",
    "                   |      |\n",
    "                   |     \n",
    "                   -\n",
    "                \"\"\",\n",
    "                # head\n",
    "                \"\"\"\n",
    "                   --------\n",
    "                   |      |\n",
    "                   |      O\n",
    "                   |    \n",
    "                   |      \n",
    "                   |     \n",
    "                   -\n",
    "                \"\"\",\n",
    "                # initial empty state\n",
    "                \"\"\"\n",
    "                   --------\n",
    "                   |      |\n",
    "                   |      \n",
    "                   |    \n",
    "                   |      \n",
    "                   |     \n",
    "                   -\n",
    "                \"\"\"\n",
    "    ]\n",
    "    return stages[tries]\n",
    "\n",
    "if __name__ == \"__main__\":\n",
    "    hangman()\n",
    "\n",
    "\n",
    "Result:\n",
    "\n",
    "\n",
    "Let's play Hangman!\n",
    " --------\n",
    "|      |\n",
    "|      \n",
    "|    \n",
    "|      \n",
    "|     \n",
    "-\n",
    "_ _ _ _ _\n"
   ]
  },
  {
   "cell_type": "code",
   "execution_count": 2,
   "id": "1b8facee-17fd-456e-bbd7-32e8cbae958f",
   "metadata": {},
   "outputs": [
    {
     "name": "stdout",
     "output_type": "stream",
     "text": [
      "Welcome to Hangman!\n",
      "Guess the word: _ _ _ _ _ _ _ _ _\n",
      "\n",
      "Attempts left: 6\n",
      "Guessed letters: \n"
     ]
    },
    {
     "name": "stdin",
     "output_type": "stream",
     "text": [
      "Enter a letter:  python\n"
     ]
    },
    {
     "name": "stdout",
     "output_type": "stream",
     "text": [
      "Invalid input. Please enter a single alphabetic character.\n",
      "\n",
      "Attempts left: 6\n",
      "Guessed letters: \n"
     ]
    },
    {
     "name": "stdin",
     "output_type": "stream",
     "text": [
      "Enter a letter:  p\n"
     ]
    },
    {
     "name": "stdout",
     "output_type": "stream",
     "text": [
      "Good job! 'p' is in the word.\n",
      "Current word: _ _ _ _ _ _ p _ _\n",
      "\n",
      "Attempts left: 6\n",
      "Guessed letters: p\n"
     ]
    },
    {
     "name": "stdin",
     "output_type": "stream",
     "text": [
      "Enter a letter:  d\n"
     ]
    },
    {
     "name": "stdout",
     "output_type": "stream",
     "text": [
      "Good job! 'd' is in the word.\n",
      "Current word: d _ _ _ _ _ p _ _\n",
      "\n",
      "Attempts left: 6\n",
      "Guessed letters: p, d\n"
     ]
    },
    {
     "name": "stdin",
     "output_type": "stream",
     "text": [
      "Enter a letter:  v\n"
     ]
    },
    {
     "name": "stdout",
     "output_type": "stream",
     "text": [
      "Good job! 'v' is in the word.\n",
      "Current word: d _ v _ _ _ p _ _\n",
      "\n",
      "Attempts left: 6\n",
      "Guessed letters: p, d, v\n"
     ]
    },
    {
     "name": "stdin",
     "output_type": "stream",
     "text": [
      "Enter a letter:  e\n"
     ]
    },
    {
     "name": "stdout",
     "output_type": "stream",
     "text": [
      "Good job! 'e' is in the word.\n",
      "Current word: d e v e _ _ p e _\n",
      "\n",
      "Attempts left: 6\n",
      "Guessed letters: p, d, v, e\n"
     ]
    },
    {
     "name": "stdin",
     "output_type": "stream",
     "text": [
      "Enter a letter:  l\n"
     ]
    },
    {
     "name": "stdout",
     "output_type": "stream",
     "text": [
      "Good job! 'l' is in the word.\n",
      "Current word: d e v e l _ p e _\n",
      "\n",
      "Attempts left: 6\n",
      "Guessed letters: p, d, v, e, l\n"
     ]
    },
    {
     "name": "stdin",
     "output_type": "stream",
     "text": [
      "Enter a letter:  o\n"
     ]
    },
    {
     "name": "stdout",
     "output_type": "stream",
     "text": [
      "Good job! 'o' is in the word.\n",
      "Current word: d e v e l o p e _\n",
      "\n",
      "Attempts left: 6\n",
      "Guessed letters: p, d, v, e, l, o\n"
     ]
    },
    {
     "name": "stdin",
     "output_type": "stream",
     "text": [
      "Enter a letter:  r\n"
     ]
    },
    {
     "name": "stdout",
     "output_type": "stream",
     "text": [
      "Good job! 'r' is in the word.\n",
      "Current word: d e v e l o p e r\n",
      "\n",
      "Congratulations! You guessed the word: developer\n"
     ]
    }
   ],
   "source": [
    "import random\n",
    "\n",
    "# Hangman Game Code\n",
    "\n",
    "def hangman():\n",
    "    # Word list\n",
    "    words = [\"python\", \"programming\", \"hangman\", \"challenge\", \"developer\"]\n",
    "    \n",
    "    # Select a random word from the list\n",
    "    word_to_guess = random.choice(words)\n",
    "    guessed_word = [\"_\"] * len(word_to_guess)\n",
    "    attempts = 6  # Number of allowed incorrect guesses\n",
    "    guessed_letters = []\n",
    "\n",
    "    print(\"Welcome to Hangman!\")\n",
    "    print(\"Guess the word: \" + \" \".join(guessed_word))\n",
    "\n",
    "    while attempts > 0 and \"_\" in guessed_word:\n",
    "        print(f\"\\nAttempts left: {attempts}\")\n",
    "        print(\"Guessed letters: \" + \", \".join(guessed_letters))\n",
    "        \n",
    "        guess = input(\"Enter a letter: \").lower()\n",
    "        \n",
    "        if not guess.isalpha() or len(guess) != 1:\n",
    "            print(\"Invalid input. Please enter a single alphabetic character.\")\n",
    "            continue\n",
    "        \n",
    "        if guess in guessed_letters:\n",
    "            print(\"You already guessed that letter!\")\n",
    "            continue\n",
    "        \n",
    "        guessed_letters.append(guess)\n",
    "        \n",
    "        if guess in word_to_guess:\n",
    "            print(f\"Good job! '{guess}' is in the word.\")\n",
    "            for index, letter in enumerate(word_to_guess):\n",
    "                if letter == guess:\n",
    "                    guessed_word[index] = guess\n",
    "        else:\n",
    "            print(f\"Sorry, '{guess}' is not in the word.\")\n",
    "            attempts -= 1\n",
    "        \n",
    "        print(\"Current word: \" + \" \".join(guessed_word))\n",
    "    \n",
    "    # Game Over\n",
    "    if \"_\" not in guessed_word:\n",
    "        print(\"\\nCongratulations! You guessed the word:\", word_to_guess)\n",
    "    else:\n",
    "        print(\"\\nOut of attempts! The word was:\", word_to_guess)\n",
    "    \n",
    "# Run the game\n",
    "hangman()\n"
   ]
  },
  {
   "cell_type": "code",
   "execution_count": null,
   "id": "5de0e33a-7b0e-4ecc-bffe-f4c9c473dbfc",
   "metadata": {},
   "outputs": [],
   "source": []
  }
 ],
 "metadata": {
  "kernelspec": {
   "display_name": "Python 3 (ipykernel)",
   "language": "python",
   "name": "python3"
  },
  "language_info": {
   "codemirror_mode": {
    "name": "ipython",
    "version": 3
   },
   "file_extension": ".py",
   "mimetype": "text/x-python",
   "name": "python",
   "nbconvert_exporter": "python",
   "pygments_lexer": "ipython3",
   "version": "3.12.4"
  }
 },
 "nbformat": 4,
 "nbformat_minor": 5
}
